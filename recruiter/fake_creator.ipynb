{
 "cells": [
  {
   "cell_type": "code",
   "execution_count": 148,
   "metadata": {},
   "outputs": [],
   "source": [
    "from selenium import webdriver\n",
    "import random, string, imaplib, email, re\n",
    "import psycopg2\n",
    "import time\n",
    "from PIL import ImageGrab\n",
    "\n",
    "from selenium.webdriver.common.action_chains import ActionChains\n",
    "from selenium.webdriver.common.keys import Keys\n",
    "import win32com.client as comclt\n",
    "# akulkarni is verified, what to do about other one.\n",
    "\n",
    "conn = psycopg2.connect(user=\"postgres\", password=\"postgres\", host=\"127.0.0.1\", port=\"5432\", database=\"postgres\")\n",
    "cur = conn.cursor()\n",
    "\n",
    "def randomPassword(stringLength=6):\n",
    "    lettersAndDigits = string.ascii_letters + string.digits\n",
    "    return ''.join(random.choice(lettersAndDigits) for i in range(stringLength))\n",
    "\n",
    "def confirm_account():\n",
    "    mail = imaplib.IMAP4_SSL('smtp-mail.outlook.com')\n",
    "    mail.login('rajatpundir13@hotmail.com', '1nst1nct')\n",
    "    mail.list()\n",
    "    mail.select(\"inbox\")\n",
    "    result, data = mail.search(None, \"ALL\")\n",
    "    ids = data[0]\n",
    "    id_list = ids.split()\n",
    "    latest_email_id = id_list[-1]\n",
    "    result, data = mail.fetch(latest_email_id, \"(RFC822)\") \n",
    "    raw_email = data[0][1]\n",
    "    msg = email.message_from_bytes(raw_email)\n",
    "    body = str(msg.get_payload()[0].get_payload(decode=True))\n",
    "    print(msg['from'], msg['subject'])\n",
    "    url = re.findall(r'(https?:\\/\\/(?:www\\.|(?!www))[a-zA-Z0-9][a-zA-Z0-9-]+[a-zA-Z0-9]\\.[^\\s]{2,}|www\\.[a-zA-Z0-9][a-zA-Z0-9-]+[a-zA-Z0-9]\\.[^\\s]{2,}|https?:\\/\\/(?:www\\.|(?!www))[a-zA-Z0-9]+\\.[^\\s]{2,}|www\\.[a-zA-Z0-9]+\\.[^\\s]{2,})', body)[1][:-10]\n",
    "    print(url)\n",
    "    driver = webdriver.Chrome()\n",
    "    driver.get(url)\n",
    "    driver.close()\n",
    "\n",
    "def generate_fake_image():\n",
    "    driver = webdriver.Chrome()\n",
    "    driver.get('https://thispersondoesnotexist.com/image')\n",
    "    driver.switch_to.window(driver.current_window_handle)\n",
    "    image = driver.find_element_by_xpath('/html/body/img')\n",
    "    ActionChains(driver).move_to_element(image).context_click().perform()\n",
    "    wsh= comclt.Dispatch(\"WScript.Shell\")\n",
    "    wsh.SendKeys(\"{DOWN}\")\n",
    "    wsh.SendKeys(\"{DOWN}\")\n",
    "    wsh.SendKeys(\"{DOWN}\")\n",
    "    wsh.SendKeys(\"{ENTER}\")\n",
    "    driver.close()\n",
    "    if ImageGrab.grabclipboard() is not None:\n",
    "        print('Success.')\n",
    "        ImageGrab.grabclipboard().save(\"C:/Users/DEMQ/fakes/\" + randomPassword(8) + \".jpeg\")\n",
    "    else:\n",
    "        print('Failed.')\n",
    "\n",
    "driver = webdriver.Chrome()"
   ]
  },
  {
   "cell_type": "code",
   "execution_count": null,
   "metadata": {},
   "outputs": [],
   "source": [
    "driver.get('https://www.behindthename.com/random/')\n",
    "\n",
    "x = driver.find_element_by_xpath(r\"/html/body/div[2]/div/div/center/table/tbody/tr[1]/td/form/table[1]/tbody/tr[1]/td[2]/select[1]\").find_elements_by_tag_name('option')\n",
    "for i in x:\n",
    "    if i.text == 'First name only':\n",
    "        i.click()\n",
    "x = driver.find_element_by_xpath(\"/html/body/div[2]/div/div/center/table/tbody/tr[1]/td/form/table[1]/tbody/tr[2]/td[2]/select\").find_elements_by_tag_name('option')\n",
    "for i in x:\n",
    "    if i.text == 'Masculine':\n",
    "        i.click()\n",
    "driver.find_element_by_xpath('/html/body/div[2]/div/div/center/table/tbody/tr[1]/td/form/table[1]/tbody/tr[3]/td[2]/div/label').click()\n",
    "driver.find_element_by_xpath('/html/body/div[2]/div/div/center/table/tbody/tr[1]/td/form/table[2]/tbody/tr[2]/td[1]/ul/li[30]/div/label').click()\n",
    "driver.find_element_by_xpath('/html/body/div[2]/div/div/center/table/tbody/tr[1]/td/form/div/input').submit()\n",
    "x = driver.find_element_by_xpath('/html/body/div[2]/div/div/center/div[1]/span').find_elements_by_tag_name('a')\n",
    "first = x[0].text\n",
    "last = x[1].text\n",
    "print(first, last)\n",
    "driver.get('https://www.freelancer.com/jobs/')\n",
    "\n",
    "sign_up = driver.find_element_by_xpath('/html/body/div[1]/header/div/div/div[2]/fl-login-signup-angular/a[2]')\n",
    "sign_up.click()"
   ]
  },
  {
   "cell_type": "code",
   "execution_count": null,
   "metadata": {},
   "outputs": [],
   "source": [
    "var_email = first.strip().lower() + '.' + last.strip().lower() + '@pundir.solutions'\n",
    "var_pass = randomPassword()\n",
    "email = driver.find_element_by_xpath('//*[@id=\"new-email\"]')\n",
    "password = driver.find_element_by_xpath('//*[@id=\"new-password\"]')\n",
    "email.clear()\n",
    "email.send_keys(var_email)\n",
    "password.clear()\n",
    "password.send_keys(var_pass)\n",
    "var_username = first.strip().lower()[0] + last.strip().lower() + str(random.randint(100,999))\n",
    "print(var_email, var_username, var_pass)\n",
    "cur.execute(\"INSERT INTO users (id, password, username) VALUES (%s, %s, %s)\", (var_email, var_pass, var_username))\n",
    "conn.commit()"
   ]
  },
  {
   "cell_type": "code",
   "execution_count": null,
   "metadata": {},
   "outputs": [],
   "source": [
    "join = driver.find_element_by_xpath('//*[@id=\"signup_btn\"]')\n",
    "join.click()"
   ]
  },
  {
   "cell_type": "code",
   "execution_count": null,
   "metadata": {},
   "outputs": [],
   "source": [
    "username = driver.find_element_by_xpath('//*[@id=\"new-username\"]')\n",
    "username.clear()\n",
    "username.send_keys(var_username)\n",
    "next_button = driver.find_element_by_xpath('/html/body/fl-ui-modal/div/div[1]/div/div/fl-compiled/fl-login-signup-modal/div/div/fl-signup/fl-username-input/div[2]/form/button')\n",
    "next_button.click()"
   ]
  },
  {
   "cell_type": "code",
   "execution_count": null,
   "metadata": {},
   "outputs": [],
   "source": [
    "time.sleep(1)\n",
    "work = driver.find_element_by_xpath('/html/body/fl-ui-modal/div/div[1]/div/div/fl-compiled/fl-login-signup-modal/div/div/fl-signup/fl-account-type-selector/div[2]/div[1]')\n",
    "work.click()\n",
    "time.sleep(7)"
   ]
  },
  {
   "cell_type": "code",
   "execution_count": null,
   "metadata": {},
   "outputs": [],
   "source": [
    "web = driver.find_element_by_xpath('//*[@id=\"main\"]/fl-freelancer-onboarding/div/fl-onboarding-skill-select/div/fl-skill-select/div/div/fl-skill-select-panel/div/div[1]/ng-transclude/fl-skill-select-category[1]/span[2]')\n",
    "web.click()\n"
   ]
  },
  {
   "cell_type": "code",
   "execution_count": null,
   "metadata": {},
   "outputs": [],
   "source": [
    "conn.commit()\n",
    "cur.close()\n",
    "conn.close()"
   ]
  }
 ],
 "metadata": {
  "kernelspec": {
   "display_name": "Python 3",
   "language": "python",
   "name": "python3"
  },
  "language_info": {
   "codemirror_mode": {
    "name": "ipython",
    "version": 3
   },
   "file_extension": ".py",
   "mimetype": "text/x-python",
   "name": "python",
   "nbconvert_exporter": "python",
   "pygments_lexer": "ipython3",
   "version": "3.7.3"
  }
 },
 "nbformat": 4,
 "nbformat_minor": 2
}
