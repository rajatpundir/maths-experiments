{
 "cells": [
  {
   "cell_type": "code",
   "execution_count": 2,
   "metadata": {},
   "outputs": [],
   "source": [
    "from math import sqrt"
   ]
  },
  {
   "cell_type": "code",
   "execution_count": 33,
   "metadata": {},
   "outputs": [
    {
     "data": {
      "text/plain": [
       "5"
      ]
     },
     "execution_count": 33,
     "metadata": {},
     "output_type": "execute_result"
    }
   ],
   "source": [
    "def prime_power(n, p):\n",
    "    power = 0\n",
    "    x = n\n",
    "    while n % p == 0:\n",
    "        power += 1\n",
    "        n /= p\n",
    "    return(power)\n",
    "\n",
    "prime_power(32, 2)"
   ]
  },
  {
   "cell_type": "code",
   "execution_count": 71,
   "metadata": {},
   "outputs": [
    {
     "name": "stdout",
     "output_type": "stream",
     "text": [
      "25.567764362830022\n",
      "4.23606797749979\n",
      "1.4142135623730951\n"
     ]
    }
   ],
   "source": [
    "primes = [2, 3]\n",
    "powers = [0, 0]\n",
    "\n",
    "def lazarus(n):\n",
    "    if n < 2:\n",
    "        return 0;\n",
    "    # Note : f(x+h) = f(x) + f'(x) * h\n",
    "    # sqrt(x + h) = sqrt(x) + h / (2 * sqrt(x))\n",
    "    sqrt_x_plus_h = sqrt(n)\n",
    "    sqrt_x = int(sqrt_x_plus_h)\n",
    "    h = 2 * sqrt_x * (sqrt_x_plus_h - sqrt_x)\n",
    "    n = sqrt_x\n",
    "#     print(sqrt_x, h)\n",
    "    # do some recursion\n",
    "    print(sqrt_x ** 2 + h / (2 * sqrt_x))\n",
    "    lazarus(n)\n",
    "#     return (sqrt_x ** 2)\n",
    "    \n",
    "lazarus(31)"
   ]
  },
  {
   "cell_type": "code",
   "execution_count": 57,
   "metadata": {},
   "outputs": [
    {
     "name": "stdout",
     "output_type": "stream",
     "text": [
      "49 43.80024350983739\n",
      "7 0.0\n",
      "2 2.583005244258363\n",
      "1 0.8284271247461903\n"
     ]
    }
   ],
   "source": [
    "n = 2445\n",
    "primes = [2, 3]\n",
    "powers = [0, 0]\n",
    "lh = []\n",
    "while n > 1:\n",
    "    xh = sqrt(n)\n",
    "    x = int(xh)\n",
    "    h = (xh - x) * 2 * x\n",
    "    lh.append(h)\n",
    "    print(x, h)\n",
    "    n = x"
   ]
  },
  {
   "cell_type": "code",
   "execution_count": 60,
   "metadata": {},
   "outputs": [
    {
     "data": {
      "text/plain": [
       "47.21167587884194"
      ]
     },
     "execution_count": 60,
     "metadata": {},
     "output_type": "execute_result"
    }
   ],
   "source": [
    "sum = lh[0]\n",
    "for i in range(1, len(lh)):\n",
    "#     print(lh[i])\n",
    "    sum += lh[i]\n",
    "sum"
   ]
  }
 ],
 "metadata": {
  "kernelspec": {
   "display_name": "Python 3",
   "language": "python",
   "name": "python3"
  },
  "language_info": {
   "codemirror_mode": {
    "name": "ipython",
    "version": 3
   },
   "file_extension": ".py",
   "mimetype": "text/x-python",
   "name": "python",
   "nbconvert_exporter": "python",
   "pygments_lexer": "ipython3",
   "version": "3.6.8"
  }
 },
 "nbformat": 4,
 "nbformat_minor": 2
}
