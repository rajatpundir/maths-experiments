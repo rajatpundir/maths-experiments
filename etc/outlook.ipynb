{
 "cells": [
  {
   "cell_type": "code",
   "execution_count": null,
   "metadata": {},
   "outputs": [],
   "source": [
    "import imaplib\n",
    "mail = imaplib.IMAP4_SSL('smtp-mail.outlook.com')\n",
    "mail.login('email', 'pass')\n",
    "mail.list()\n",
    "mail.select(\"inbox\")\n",
    "result, data = mail.search(None, \"ALL\")\n",
    "ids = data[0]\n",
    "id_list = ids.split()\n",
    "latest_email_id = id_list[-1]\n",
    "result, data = mail.fetch(latest_email_id, \"(RFC822)\") \n",
    "raw_email = data[0][1]\n",
    "msg = email.message_from_bytes(raw_email)\n",
    "print(msg['from'], msg['subject'])\n",
    "print(msg.get_payload()[0].get_payload(decode=True))"
   ]
  },
  {
   "cell_type": "code",
   "execution_count": null,
   "metadata": {},
   "outputs": [],
   "source": []
  }
 ],
 "metadata": {
  "kernelspec": {
   "display_name": "Python 3",
   "language": "python",
   "name": "python3"
  },
  "language_info": {
   "codemirror_mode": {
    "name": "ipython",
    "version": 3
   },
   "file_extension": ".py",
   "mimetype": "text/x-python",
   "name": "python",
   "nbconvert_exporter": "python",
   "pygments_lexer": "ipython3",
   "version": "3.7.3"
  }
 },
 "nbformat": 4,
 "nbformat_minor": 2
}
