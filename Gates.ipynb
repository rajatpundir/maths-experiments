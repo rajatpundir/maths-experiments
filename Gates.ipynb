{
 "cells": [
  {
   "cell_type": "code",
   "execution_count": 585,
   "metadata": {},
   "outputs": [],
   "source": [
    "import numpy\n",
    "\n",
    "class Gate:\n",
    "    def __init__(self, x=None, y=None, x_callback=None, y_callback=None, weight_gate=False):\n",
    "        self.dx = None\n",
    "        self.dy = None\n",
    "        self.dz = None\n",
    "        self.z = None\n",
    "        self.weight_gate = weight_gate\n",
    "        self.final = None\n",
    "        self.x_callback = x_callback\n",
    "        self.y_callback = y_callback\n",
    "        self.f_callback = None\n",
    "        if self.x_callback:\n",
    "            self.x_callback.compute_forward()\n",
    "            self.x = self.x_callback.z\n",
    "            self.x_callback.f_callback = self.forward\n",
    "        else:\n",
    "            self.x = x\n",
    "        if self.y_callback:\n",
    "            self.y_callback.compute_forward()\n",
    "            self.y = self.y_callback.z\n",
    "            self.y_callback.f_callback = self.forward\n",
    "        else:\n",
    "            self.y = y\n",
    "        self.compute_forward()\n",
    "        \n",
    "    def forward(self):\n",
    "        self.refresh_inputs()\n",
    "        self.compute_forward()\n",
    "        if self.f_callback:\n",
    "            self.gradients()\n",
    "            self.f_callback()\n",
    "        else:\n",
    "            return(self.z)\n",
    "        \n",
    "    def refresh_inputs(self):\n",
    "        if self.x_callback:\n",
    "            print(self.x, '->', self.x_callback.z)\n",
    "            self.x = self.x_callback.z\n",
    "        if self.y_callback:\n",
    "            print(self.y, '->', self.y_callback.z)\n",
    "            self.y = self.y_callback.z\n",
    "        \n",
    "    def compute_forward(self):\n",
    "        pass\n",
    "        \n",
    "    def backward(self, dz=1):\n",
    "        self.dz = dz\n",
    "        self.compute_backward()\n",
    "        if self.x_callback:\n",
    "            self.x_callback.backward(self.dx)\n",
    "        if self.y_callback:\n",
    "            self.y_callback.backward(self.dy)\n",
    "        if self.x_callback == None and self.y_callback == None:\n",
    "            self.update()\n",
    "            self.forward()\n",
    "            \n",
    "    def compute_backward(self):\n",
    "        pass\n",
    "    \n",
    "    def gradients(self):\n",
    "        return\n",
    "        print(self.x, self.y)\n",
    "        print('dx =', self.dx, 'dy =', self.dy)\n",
    "        \n",
    "    def update(self):\n",
    "        # update only if its a variable weight gate.\n",
    "        if self.weight_gate:\n",
    "            wt_upd = self.x + self.dx / self.x\n",
    "            print(self.x , '-->', wt_upd)\n",
    "            self.x = wt_upd\n",
    "    \n",
    "class AddGate(Gate):\n",
    "    def __init__(self, x, y, x_callback=None, y_callback=None):\n",
    "        super().__init__(x, y, x_callback, y_callback)\n",
    "    def compute_forward(self):\n",
    "        print('forward+', self.x, self.y)\n",
    "        self.z = self.x + self.y\n",
    "    def compute_backward(self):\n",
    "        print('backward', self.x, self.y)\n",
    "        self.dx = self.dz\n",
    "        self.dy = self.dz\n",
    "        \n",
    "class MultiplyGate(Gate):\n",
    "    def __init__(self, x, y, x_callback=None, y_callback=None):\n",
    "        super().__init__(x, y, x_callback, y_callback)\n",
    "    def compute_forward(self):\n",
    "        print('forward*', self.x, self.y)\n",
    "        self.z = self.x * self.y\n",
    "    def compute_backward(self):\n",
    "        self.dx = self.y * self.dz\n",
    "        self.dy = self.x * self.dz\n",
    "        \n",
    "class PundirGate(Gate):\n",
    "    def __init__(self, x, y, x_callback=None, y_callback=None):\n",
    "        super().__init__(x, y, x_callback, y_callback)\n",
    "    def compute_forward(self):\n",
    "        self.z = self.x + self.y\n",
    "    def compute_backward(self):\n",
    "        self.dx = self.y + (self.dz - self.z)\n",
    "        self.dy = self.x + (self.dz - self.z)\n",
    "        \n",
    "class WeightGate(Gate):\n",
    "    def __init__(self, x=None, y=None, x_callback=None, y_callback=None, weight_gate=True):\n",
    "        super().__init__(x, y, x_callback, y_callback, weight_gate)\n",
    "    def compute_forward(self):\n",
    "        print('weight-forward')\n",
    "        self.z = self.x\n",
    "    def compute_backward(self):\n",
    "        self.dx = self.dz"
   ]
  },
  {
   "cell_type": "code",
   "execution_count": 588,
   "metadata": {},
   "outputs": [
    {
     "name": "stdout",
     "output_type": "stream",
     "text": [
      "weight-forward\n",
      "weight-forward\n",
      "forward* 2 3\n",
      "weight-forward\n",
      "weight-forward\n",
      "forward+ 4 6\n",
      "forward* 2 3\n",
      "forward+ 4 6\n",
      "forward* 6 10\n"
     ]
    },
    {
     "data": {
      "text/plain": [
       "60"
      ]
     },
     "execution_count": 588,
     "metadata": {},
     "output_type": "execute_result"
    }
   ],
   "source": [
    "w1 = WeightGate(2)\n",
    "a1 = MultiplyGate(None, 3, w1, None)\n",
    "w2 = WeightGate(4)\n",
    "a2 = AddGate(None, 6, w2, None)\n",
    "a3 = MultiplyGate(None, None, a1, a2)\n",
    "a3.z"
   ]
  },
  {
   "cell_type": "code",
   "execution_count": 589,
   "metadata": {
    "scrolled": false
   },
   "outputs": [
    {
     "name": "stdout",
     "output_type": "stream",
     "text": [
      "2 --> 902.0\n",
      "weight-forward\n",
      "2 -> 902.0\n",
      "forward* 902.0 3\n",
      "6 -> 2706.0\n",
      "10 -> 10\n",
      "forward* 2706.0 10\n",
      "backward 4 6\n",
      "4 --> 94.0\n",
      "weight-forward\n",
      "4 -> 94.0\n",
      "forward+ 94.0 6\n",
      "2706.0 -> 2706.0\n",
      "10 -> 100.0\n",
      "forward* 2706.0 100.0\n",
      "a3 270600.0 2706.0 100.0 60\n",
      "a2 100.0 94.0 6 360\n",
      "w2 94.0 94.0 None 360\n",
      "a1 2706.0 902.0 3 600\n",
      "w1 902.0 902.0 None 1800\n"
     ]
    }
   ],
   "source": [
    "# Better to redesign it, now that we know the full picture.\n",
    "# Maybe on paper first\n",
    "a3.backward(a3.z)\n",
    "# weight node is being called multiple thats why\n",
    "print('a3', a3.z, a3.x, a3.y, a3.dz)\n",
    "print('a2', a2.z, a2.x, a2.y, a2.dz)\n",
    "print('w2', w2.z, w2.x, w2.y, w2.dz)\n",
    "print('a1', a1.z, a1.x, a1.y, a1.dz)\n",
    "print('w1', w1.z, w1.x, w1.y, w1.dz)"
   ]
  },
  {
   "cell_type": "code",
   "execution_count": null,
   "metadata": {},
   "outputs": [],
   "source": []
  }
 ],
 "metadata": {
  "kernelspec": {
   "display_name": "Python 3",
   "language": "python",
   "name": "python3"
  },
  "language_info": {
   "codemirror_mode": {
    "name": "ipython",
    "version": 3
   },
   "file_extension": ".py",
   "mimetype": "text/x-python",
   "name": "python",
   "nbconvert_exporter": "python",
   "pygments_lexer": "ipython3",
   "version": "3.7.3"
  }
 },
 "nbformat": 4,
 "nbformat_minor": 2
}
